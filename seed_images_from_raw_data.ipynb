{
 "cells": [
  {
   "cell_type": "markdown",
   "metadata": {},
   "source": [
    "This notebook attempts to extract images of single seeds from the raw video data."
   ]
  },
  {
   "cell_type": "markdown",
   "metadata": {},
   "source": [
    "Requirements:\n",
    "\n",
    "```sh\n",
    "pip install matplotlib opencv-python numpy\n",
    "```"
   ]
  },
  {
   "cell_type": "code",
   "execution_count": null,
   "metadata": {},
   "outputs": [],
   "source": [
    "import cv2\n",
    "import skimage"
   ]
  },
  {
   "cell_type": "code",
   "execution_count": null,
   "metadata": {},
   "outputs": [],
   "source": [
    "vidcap = cv2.VideoCapture('raw/kaura_1.avi', None)\n",
    "\n",
    "nth_frame = 30\n",
    "frames = []\n",
    "frame_counter = 0\n",
    "\n",
    "while True:\n",
    "    success, image = vidcap.read()\n",
    "    if not success: break\n",
    "\n",
    "    frame_counter += 1\n",
    "    if frame_counter == nth_frame:\n",
    "        frame_counter = 0\n",
    "        frames.append(cv2.cvtColor(image, cv2.COLOR_BGR2RGB))"
   ]
  },
  {
   "cell_type": "code",
   "execution_count": null,
   "metadata": {},
   "outputs": [],
   "source": [
    "import matplotlib.pyplot as plt\n",
    "import random\n",
    "\n",
    "plt.imshow(frames[80])"
   ]
  },
  {
   "cell_type": "code",
   "execution_count": null,
   "metadata": {},
   "outputs": [],
   "source": [
    "# Crop the image to get rid of the left and right edges\n",
    "\n",
    "cropped_frames = [frame[:, 50:620] for frame in frames]\n",
    "\n",
    "plt.imshow(cropped_frames[80])"
   ]
  },
  {
   "cell_type": "code",
   "execution_count": null,
   "metadata": {},
   "outputs": [],
   "source": [
    "# Threshold the image\n",
    "\n",
    "SEED_THRESHOLD = 75 / 255\n",
    "\n",
    "def rgb2gray(image):\n",
    "    image = image / 255\n",
    "    return image[:,:,0] * 4 + image[:,:,1] * 1 + image[:,:,2] * -4.5\n",
    "\n",
    "grayscale_frames = [rgb2gray(frame) for frame in cropped_frames]\n",
    "thresholded_frames = [frame > SEED_THRESHOLD for frame in grayscale_frames]\n",
    "\n",
    "fig, ax = plt.subplots(2, 2, figsize=(9, 7))\n",
    "ax[0, 0].imshow(frames[80])\n",
    "ax[0, 1].imshow(cropped_frames[80])\n",
    "ax[1, 0].imshow(grayscale_frames[80], 'gray',vmin=0,vmax=1)\n",
    "ax[1, 1].imshow(thresholded_frames[80], 'gray',vmin=0,vmax=1)\n",
    "\n",
    "for ax, title in zip(ax.flat, ['Alkuperäinen', 'Rajattu', 'Mustavalkoistettu', 'Kynnystetty']):\n",
    "    ax.set_title(title)\n",
    "    ax.axis('off')"
   ]
  },
  {
   "cell_type": "code",
   "execution_count": null,
   "metadata": {},
   "outputs": [],
   "source": [
    "import numpy as np\n",
    "\n",
    "# Try different morphological operations on the image\n",
    "\n",
    "close_kernel = skimage.morphology.disk(3)\n",
    "open_kernel = skimage.morphology.disk(2)\n",
    "\n",
    "test_opened = skimage.morphology.opening(thresholded_frames[80], open_kernel)\n",
    "test_closed = skimage.morphology.closing(thresholded_frames[80], close_kernel)\n",
    "test_opened_closed = skimage.morphology.closing(test_opened, close_kernel)\n",
    "test_closed_opened = skimage.morphology.opening(test_closed, open_kernel)\n",
    "\n",
    "test_images = [test_opened, test_closed, test_opened_closed, test_closed_opened]\n",
    "test_titles = ['opened', 'closed', 'opened, then closed', 'closed, then opened']\n",
    "\n",
    "plt.figure(figsize=(10,10))\n",
    "for i, (image, title) in enumerate(zip(test_images, test_titles)):\n",
    "    plt.subplot(2,2,i+1)\n",
    "    plt.imshow(image, 'gray',vmin=0,vmax=1)\n",
    "    plt.title(title)"
   ]
  },
  {
   "cell_type": "code",
   "execution_count": null,
   "metadata": {},
   "outputs": [],
   "source": [
    "test_images = [thresholded_frames[80][200:300,250:400], test_closed[200:300,250:400], test_closed[300:450,200:400], test_closed_opened[300:450,200:400]]\n",
    "test_titles = ['Ennen sulkemista', 'Suljettu', 'Ennen avaamista', 'Suljettu ja avattu']\n",
    "\n",
    "plt.figure(figsize=(10,8))\n",
    "for i, (image, title) in enumerate(zip(test_images, test_titles)):\n",
    "    plt.subplot(2,2,i+1)\n",
    "    plt.imshow(image, 'gray',vmin=0,vmax=1)\n",
    "    plt.title(title)\n",
    "    plt.axis('off')"
   ]
  },
  {
   "cell_type": "markdown",
   "metadata": {},
   "source": [
    "Closing and then opening the image seems to be quite useful. Let's try masking the image using it with some dilation."
   ]
  },
  {
   "cell_type": "code",
   "execution_count": null,
   "metadata": {},
   "outputs": [],
   "source": [
    "labels = skimage.measure.label(test_closed_opened, 0)\n",
    "\n",
    "label_overlay = skimage.color.label2rgb(labels, grayscale_frames[80], bg_label=0)\n",
    "\n",
    "expanded_labels = skimage.segmentation.expand_labels(labels, 5)\n",
    "\n",
    "label_colors = []\n",
    "for label in skimage.measure.regionprops(expanded_labels):\n",
    "        top, left, bottom, right = label.bbox\n",
    "\n",
    "        discard = top == 0 or left == 0 or bottom == grayscale_frames[80].shape[0] or right == grayscale_frames[80].shape[1]\n",
    "        label_colors.append((1, 0, 0) if discard else (0, 1, 0))\n",
    "\n",
    "label_overlay_discards = skimage.color.label2rgb(expanded_labels, grayscale_frames[80], label_colors, bg_label=0)\n",
    "\n",
    "fig, ax = plt.subplots(1, 2, figsize=(10, 4))\n",
    "for i, (img, title) in enumerate([(label_overlay, 'Merkityt alueet'), (label_overlay_discards, 'Laajennetut ja suodatetut alueet')]):\n",
    "    ax[i].imshow(img)\n",
    "    ax[i].set_title(title)\n",
    "    ax[i].axis(\"off\")"
   ]
  },
  {
   "cell_type": "code",
   "execution_count": null,
   "metadata": {},
   "outputs": [],
   "source": [
    "params = cv2.SimpleBlobDetector_Params()\n",
    "\n",
    "params.blobColor = 255\n",
    "\n",
    "# Change thresholds\n",
    "params.minThreshold = 10\n",
    "params.maxThreshold = 255\n",
    "\n",
    "# Filter by Area.\n",
    "params.filterByArea = True\n",
    "params.minArea = 25\n",
    "\n",
    "# Filter by Circularity\n",
    "params.filterByCircularity = False\n",
    "# params.minCircularity = 0.1\n",
    "\n",
    "# Filter by Convexity\n",
    "params.filterByConvexity = False\n",
    "# params.minConvexity = 0.87\n",
    "\n",
    "# Filter by Inertia\n",
    "params.filterByInertia = False\n",
    "# params.minInertiaRatio = 0.01\n",
    "\n",
    "blob_detector = cv2.SimpleBlobDetector_create(params)\n",
    "\n",
    "# Detect blobs in the undilated mask\n",
    "cv2.find\n",
    "blobs = blob_detector.detectAndCompute(test_closed_opened)\n",
    "blobs"
   ]
  },
  {
   "cell_type": "code",
   "execution_count": null,
   "metadata": {},
   "outputs": [],
   "source": [
    "dilation_kernel = np.ones((20,20))\n",
    "\n",
    "dilated = cv2.dilate(test_closed_opened, dilation_kernel)\n",
    "\n",
    "\n",
    "fig, ax = plt.subplots(2,2, figsize=(15,15))\n",
    "ax[0,0].imshow(cropped_frames[80])\n",
    "ax[0,0].set_title('original')\n",
    "ax[0,1].imshow(dilated, 'gray',vmin=0,vmax=255)\n",
    "ax[0,1].set_title('dilated mask')\n",
    "ax[1,0].imshow(cropped_frames[80] * np.repeat((test_closed_opened // 255)[...,None], 3, axis=2))\n",
    "ax[1,0].set_title('masked using original mask')\n",
    "ax[1,1].imshow(cropped_frames[80] * np.repeat((dilated // 255)[...,None], 3, axis=2))\n",
    "ax[1,1].set_title('masked using dilated mask')"
   ]
  },
  {
   "cell_type": "code",
   "execution_count": null,
   "metadata": {},
   "outputs": [],
   "source": [
    "params = cv2.SimpleBlobDetector_Params()\n",
    "\n",
    "# Change thresholds\n",
    "params.minThreshold = 10;\n",
    "params.maxThreshold = 200;\n",
    " \n",
    "# Filter by Area.\n",
    "params.filterByArea = True\n",
    "params.minArea = 25\n",
    " \n",
    "# Filter by Circularity\n",
    "params.filterByCircularity = False\n",
    "# params.minCircularity = 0.1\n",
    " \n",
    "# Filter by Convexity\n",
    "params.filterByConvexity = False\n",
    "# params.minConvexity = 0.87\n",
    " \n",
    "# Filter by Inertia\n",
    "params.filterByInertia = False\n",
    "# params.minInertiaRatio = 0.01\n",
    "\n",
    "blob_detector = cv2.SimpleBlobDetector_create(params)\n",
    "\n",
    "# Detect blobs in the undilated mask\n",
    "blobs = blob_detector.detect(test_closed_opened)\n",
    "params.__dict__"
   ]
  },
  {
   "cell_type": "code",
   "execution_count": null,
   "metadata": {},
   "outputs": [],
   "source": []
  }
 ],
 "metadata": {
  "kernelspec": {
   "display_name": "venv",
   "language": "python",
   "name": "python3"
  },
  "language_info": {
   "codemirror_mode": {
    "name": "ipython",
    "version": 3
   },
   "file_extension": ".py",
   "mimetype": "text/x-python",
   "name": "python",
   "nbconvert_exporter": "python",
   "pygments_lexer": "ipython3",
   "version": "3.11.6"
  }
 },
 "nbformat": 4,
 "nbformat_minor": 2
}
