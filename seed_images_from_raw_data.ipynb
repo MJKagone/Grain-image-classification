{
 "cells": [
  {
   "cell_type": "markdown",
   "metadata": {},
   "source": [
    "This notebook attempts to extract images of single seeds from the raw video data."
   ]
  },
  {
   "cell_type": "markdown",
   "metadata": {},
   "source": [
    "Requirements:\n",
    "\n",
    "```sh\n",
    "pip install matplotlib opencv-python numpy\n",
    "```"
   ]
  },
  {
   "cell_type": "code",
   "execution_count": null,
   "metadata": {},
   "outputs": [],
   "source": [
    "import cv2"
   ]
  },
  {
   "cell_type": "code",
   "execution_count": null,
   "metadata": {},
   "outputs": [],
   "source": [
    "vidcap = cv2.VideoCapture('raw/kaura_1.avi', None)\n",
    "\n",
    "nth_frame = 30\n",
    "frames = []\n",
    "frame_counter = 0\n",
    "\n",
    "while True:\n",
    "    success, image = vidcap.read()\n",
    "    if not success: break\n",
    "\n",
    "    frame_counter += 1\n",
    "    if frame_counter == nth_frame:\n",
    "        frame_counter = 0\n",
    "        frames.append(cv2.cvtColor(image, cv2.COLOR_BGR2RGB))"
   ]
  },
  {
   "cell_type": "code",
   "execution_count": null,
   "metadata": {},
   "outputs": [],
   "source": [
    "import matplotlib.pyplot as plt\n",
    "import random\n",
    "\n",
    "plt.imshow(frames[80])"
   ]
  },
  {
   "cell_type": "code",
   "execution_count": null,
   "metadata": {},
   "outputs": [],
   "source": [
    "# Crop the image to get rid of the left and right edges\n",
    "\n",
    "cropped_frames = [frame[:, 50:620] for frame in frames]\n",
    "\n",
    "plt.imshow(cropped_frames[80])"
   ]
  },
  {
   "cell_type": "code",
   "execution_count": null,
   "metadata": {},
   "outputs": [],
   "source": [
    "# Threshold the image\n",
    "\n",
    "SEED_THRESHOLD = 75\n",
    "\n",
    "grayscale_frames = [cv2.cvtColor(frame, cv2.COLOR_RGB2GRAY) for frame in cropped_frames]\n",
    "thresholded_frames = [cv2.threshold(frame, SEED_THRESHOLD, 255, cv2.THRESH_BINARY) for frame in grayscale_frames]\n",
    "\n",
    "print(thresholded_frames[80][0])\n",
    "\n",
    "plt.imshow(thresholded_frames[80][1], 'gray',vmin=0,vmax=255)"
   ]
  },
  {
   "cell_type": "code",
   "execution_count": null,
   "metadata": {},
   "outputs": [],
   "source": [
    "import numpy as np\n",
    "\n",
    "# Try different morphological operations on the image\n",
    "\n",
    "close_kernel = np.ones((10, 10), np.uint8)\n",
    "open_kernel = np.ones((5, 5), np.uint8)\n",
    "\n",
    "test_opened = cv2.morphologyEx(thresholded_frames[80][1], cv2.MORPH_OPEN, open_kernel)\n",
    "test_closed = cv2.morphologyEx(thresholded_frames[80][1], cv2.MORPH_CLOSE, close_kernel)\n",
    "test_opened_closed = cv2.morphologyEx(test_opened, cv2.MORPH_CLOSE, close_kernel)\n",
    "test_closed_opened = cv2.morphologyEx(test_closed, cv2.MORPH_OPEN, open_kernel)\n",
    "\n",
    "test_images = [test_opened, test_closed, test_opened_closed, test_closed_opened]\n",
    "test_titles = ['opened', 'closed', 'opened, then closed', 'closed, then opened']\n",
    "\n",
    "plt.figure(figsize=(10,10))\n",
    "for i, (image, title) in enumerate(zip(test_images, test_titles)):\n",
    "    plt.subplot(2,2,i+1)\n",
    "    plt.imshow(image, 'gray',vmin=0,vmax=255)\n",
    "    plt.title(title)"
   ]
  },
  {
   "cell_type": "markdown",
   "metadata": {},
   "source": [
    "Closing and then opening the image seems to be quite useful. Let's try masking the image using it with some dilation."
   ]
  },
  {
   "cell_type": "code",
   "execution_count": null,
   "metadata": {},
   "outputs": [],
   "source": [
    "dilation_kernel = np.ones((20,20))\n",
    "\n",
    "dilated = cv2.dilate(test_closed_opened, dilation_kernel)\n",
    "\n",
    "\n",
    "fig, ax = plt.subplots(2,2, figsize=(15,15))\n",
    "ax[0,0].imshow(cropped_frames[80])\n",
    "ax[0,0].set_title('original')\n",
    "ax[0,1].imshow(dilated, 'gray',vmin=0,vmax=255)\n",
    "ax[0,1].set_title('dilated mask')\n",
    "ax[1,0].imshow(cropped_frames[80] * np.repeat((test_closed_opened // 255)[...,None], 3, axis=2))\n",
    "ax[1,0].set_title('masked using original mask')\n",
    "ax[1,1].imshow(cropped_frames[80] * np.repeat((dilated // 255)[...,None], 3, axis=2))\n",
    "ax[1,1].set_title('masked using dilated mask')"
   ]
  }
 ],
 "metadata": {
  "kernelspec": {
   "display_name": "venv",
   "language": "python",
   "name": "python3"
  },
  "language_info": {
   "codemirror_mode": {
    "name": "ipython",
    "version": 3
   },
   "file_extension": ".py",
   "mimetype": "text/x-python",
   "name": "python",
   "nbconvert_exporter": "python",
   "pygments_lexer": "ipython3",
   "version": "3.10.5"
  }
 },
 "nbformat": 4,
 "nbformat_minor": 2
}
