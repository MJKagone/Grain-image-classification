{
 "cells": [
  {
   "cell_type": "code",
   "execution_count": null,
   "metadata": {},
   "outputs": [],
   "source": [
    "import skimage\n",
    "from PIL import Image\n",
    "import matplotlib.pyplot as plt\n",
    "import seed_segmenter\n",
    "import numpy as np"
   ]
  },
  {
   "cell_type": "markdown",
   "metadata": {},
   "source": [
    "Bad results with original grayscaling algorithm"
   ]
  },
  {
   "cell_type": "code",
   "execution_count": null,
   "metadata": {},
   "outputs": [],
   "source": [
    "with Image.open('raw_image/data/ruis/first_89.png') as img:\n",
    "    bad_image = skimage.util.img_as_float(np.array(img))\n",
    "\n",
    "cropped_image = bad_image[:, 40:1340]\n",
    "grayscale_image = skimage.color.rgb2gray(cropped_image)\n",
    "thresholded_image = grayscale_image > 0.295\n",
    "\n",
    "fig, ax = plt.subplots(1, 2, figsize=(10, 5))\n",
    "ax[0].imshow(bad_image)\n",
    "ax[0].axis('off')\n",
    "ax[0].set_title('Alkuperäinen')\n",
    "ax[1].imshow(thresholded_image,cmap='gray')\n",
    "ax[1].axis('off')\n",
    "ax[1].set_title('Mustavalkoistettu ja kynnystetty')"
   ]
  },
  {
   "cell_type": "code",
   "execution_count": null,
   "metadata": {},
   "outputs": [],
   "source": [
    "weighted_image = cropped_image.copy()\n",
    "weighted_image[:,:,0] *= 1\n",
    "weighted_image[:,:,1] *= 1\n",
    "#weighted_image[:,:,2] /= 0.8\n",
    "hsv_image = skimage.color.rgb2hsv(weighted_image)\n",
    "\n",
    "hsv_max_value = hsv_image.copy()\n",
    "hsv_max_value[:,:, 2] = hsv_image[:,:, 1]\n",
    "hsv_max_value[:,:, 1] = 1\n",
    "\n",
    "fig, ax = plt.subplots(2, 2, figsize=(5,5))\n",
    "\n",
    "ax[0,0].imshow(hsv_image[:,:,1], cmap='gray')\n",
    "ax[0,0].axis('off')\n",
    "ax[0,0].set_title('(a) Kylläisyys')\n",
    "\n",
    "ax[0,1].imshow(hsv_image[:,:,2]*hsv_image[:,:,1], cmap='gray')\n",
    "ax[0,1].axis('off')\n",
    "ax[0,1].set_title('(b) Kylläisyys ja kirkkaus')\n",
    "\n",
    "ax[1,0].imshow((hsv_image[:,:,2]*hsv_image[:,:,1] > 0.02), cmap='gray')\n",
    "ax[1,0].axis('off')\n",
    "ax[1,0].set_title('(c) Kynnystetty')\n",
    "\n",
    "ax[1,1].imshow((hsv_image[:,:,2]*hsv_image[:,:,1] > 0.02) * (hsv_image[:,:,0] < 0.333333), cmap='gray')\n",
    "ax[1,1].axis('off')\n",
    "ax[1,1].set_title('(d) Sävysuodatettu')\n",
    "\n",
    "plt.tight_layout()"
   ]
  },
  {
   "cell_type": "code",
   "execution_count": null,
   "metadata": {},
   "outputs": [],
   "source": [
    "\n",
    "close_kernel = skimage.morphology.disk(2)\n",
    "open_kernel = skimage.morphology.disk(4)\n",
    "\n",
    "closed = skimage.morphology.closing(thresholded_image, close_kernel)\n",
    "closed_opened = skimage.morphology.opening(closed, open_kernel)\n",
    "opened = skimage.morphology.opening((hsv_image[:,:,2]*hsv_image[:,:,1] > 0.01) * (hsv_image[:,:,0] < 0.333333), open_kernel)\n",
    "opened_closed = skimage.morphology.closing(opened, close_kernel)\n",
    "\n",
    "fig, ax = plt.subplots(1, 2, figsize=(10,6))\n",
    "ax[0].imshow(closed_opened,cmap='gray')\n",
    "ax[0].set_title('Suljettu ja avattu')\n",
    "ax[0].axis('off')\n",
    "ax[1].imshow(opened,cmap='gray')\n",
    "ax[1].set_title('Pelkästään avattu')\n",
    "ax[1].axis('off')"
   ]
  },
  {
   "cell_type": "code",
   "execution_count": null,
   "metadata": {},
   "outputs": [],
   "source": []
  }
 ],
 "metadata": {
  "kernelspec": {
   "display_name": "Python 3",
   "language": "python",
   "name": "python3"
  },
  "language_info": {
   "codemirror_mode": {
    "name": "ipython",
    "version": 3
   },
   "file_extension": ".py",
   "mimetype": "text/x-python",
   "name": "python",
   "nbconvert_exporter": "python",
   "pygments_lexer": "ipython3",
   "version": "3.12.3"
  }
 },
 "nbformat": 4,
 "nbformat_minor": 2
}
