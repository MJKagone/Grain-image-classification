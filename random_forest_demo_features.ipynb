{
 "cells": [
  {
   "cell_type": "markdown",
   "metadata": {},
   "source": [
    "Loads a dataset of images of 4 kinds of different seeds represented in jpg format, trains a random forest classifier (and a kNN classifier) on the data, and tests the models."
   ]
  },
  {
   "cell_type": "code",
   "execution_count": null,
   "metadata": {},
   "outputs": [],
   "source": [
    "import os\n",
    "import numpy as np\n",
    "from skimage.io import imread\n",
    "from sklearn.model_selection import train_test_split\n",
    "from sklearn.ensemble import RandomForestClassifier\n",
    "from sklearn.neighbors import KNeighborsClassifier\n",
    "import pickle\n",
    "from skimage.transform import resize\n",
    "from sklearn.metrics import confusion_matrix\n",
    "import tkinter as tk\n",
    "from tkinter import filedialog"
   ]
  },
  {
   "cell_type": "markdown",
   "metadata": {},
   "source": [
    "Load and process the data:"
   ]
  },
  {
   "cell_type": "code",
   "execution_count": null,
   "metadata": {},
   "outputs": [],
   "source": [
    "from img2vec_pytorch import Img2Vec\n",
    "from PIL import Image\n",
    "\n",
    "img2vec = Img2Vec()\n",
    "\n",
    "def load_image(file, i):\n",
    "    if not file.lower().endswith(\".png\"):\n",
    "        raise Exception('Invalid file name')\n",
    "\n",
    "    print(f\"Loading {file}\")\n",
    "\n",
    "    # load the image, resize it to a uniform size and flatten it to a 1D array\n",
    "\n",
    "    # img = imread(file, as_gray=False)\n",
    "    # resized_img = resize(img, (150, 150, 3)).flatten()\n",
    "    features = img2vec.get_vec(Image.open(file))\n",
    "    label = i\n",
    "    return features, label\n",
    "\n",
    "\n",
    "def prepare_data(directory, data_file, labels_file):\n",
    "    failed_files = []\n",
    "    data = []\n",
    "    labels = []\n",
    "\n",
    "    # load the images and labels from the directory\n",
    "\n",
    "    for i in range(4):\n",
    "        path = os.path.join(directory, [\"kaura\", \"ohra\", \"ruis\", \"vehna\"][i])\n",
    "        files = [os.path.join(path, file) for file in os.listdir(path)]\n",
    "        for file in files:\n",
    "            try:\n",
    "                img, label = load_image(file, i)\n",
    "            except Exception as e:\n",
    "                print(f\"Error reading {file}: {e}\")\n",
    "                failed_files.append(file)\n",
    "                continue\n",
    "\n",
    "            data.append(img)\n",
    "            labels.append(label)\n",
    "            print(f\"Loaded {file}\")\n",
    "\n",
    "    if not failed_files:\n",
    "        print(\"All files loaded successfully\")\n",
    "    else:\n",
    "        print(f\"Failed to load files {failed_files}\")\n",
    "\n",
    "\n",
    "    # save the data and labels as numpy arrays for classification\n",
    "\n",
    "    data_np = np.array(data)\n",
    "    labels_np = np.array(labels)\n",
    "    print(\"Saving data...\")\n",
    "    np.save(data_file, data_np)\n",
    "    np.save(labels_file, labels_np)\n",
    "    print(f\"Data saved successfully in {data_file} and {labels_file}\")\n",
    "    return data_np, labels_np\n",
    "\n",
    "\n",
    "def load_cached(directory, data_file, labels_file):\n",
    "    try:\n",
    "        data, labels = np.load(data_file), np.load(labels_file)\n",
    "        print('Successfully loaded cached data')\n",
    "        return data, labels\n",
    "    except:\n",
    "        return prepare_data(directory, data_file, labels_file)"
   ]
  },
  {
   "cell_type": "markdown",
   "metadata": {},
   "source": [
    "Split the data into training and validation sets:"
   ]
  },
  {
   "cell_type": "code",
   "execution_count": null,
   "metadata": {},
   "outputs": [],
   "source": [
    "def split_data():\n",
    "    x, y = load_cached('train', 'training_data_f.npy', 'training_labels_f.npy')\n",
    "    x_train, x_validation, y_train, y_validation = train_test_split(x, y, test_size=0.2, shuffle=True, stratify=y)\n",
    "\n",
    "    # the data is 3-dimensional (RGB), but the models expect a 2-dimensional array\n",
    "\n",
    "    # No, it's not. load_image flattens it.\n",
    "    # x_train = x_train.reshape(x_train.shape[0], -1)\n",
    "    # x_validation = x_validation.reshape(x_validation.shape[0], -1)\n",
    "\n",
    "    return x_train, x_validation, y_train, y_validation\n",
    "\n",
    "print(\"Splitting data...\")\n",
    "x_train, x_validation, y_train, y_validation = split_data()\n",
    "print(\"Data split successfully\")"
   ]
  },
  {
   "cell_type": "markdown",
   "metadata": {},
   "source": [
    "Train a random forest classifier:"
   ]
  },
  {
   "cell_type": "code",
   "execution_count": null,
   "metadata": {},
   "outputs": [],
   "source": [
    "def train_models(x_train, y_train, x_validation, y_validation):\n",
    "\n",
    "    print(\"Training random forest model #1...\")\n",
    "    random_forest_model = RandomForestClassifier(n_estimators=100, max_depth=10, n_jobs=-1)\n",
    "    random_forest_model.fit(x_train, y_train)\n",
    "    with open(\"random_forest_model_f.sav\", 'wb') as f:\n",
    "        pickle.dump(random_forest_model, f)\n",
    "    print(\"Random forest model trained successfully and saved in random_forest_model.sav\")\n",
    "\n",
    "    # print(\"Training kNN model...\")\n",
    "    # knn_3_model = KNeighborsClassifier(n_neighbors=3, n_jobs=-1)\n",
    "    # knn_3_model.fit(x_train, y_train)\n",
    "    # pickle.dump(knn_3_model, open(\"knn_3_model.sav\", 'wb'))\n",
    "    # print(\"kNN model trained successfully and saved in knn_3_model.sav\")\n",
    "\n",
    "\n",
    "train_models(x_train, y_train, x_validation, y_validation)"
   ]
  },
  {
   "cell_type": "markdown",
   "metadata": {},
   "source": [
    "Evaluate the models on the validation data:"
   ]
  },
  {
   "cell_type": "code",
   "execution_count": null,
   "metadata": {},
   "outputs": [],
   "source": [
    "def evaluate_models(x_validation, y_validation):\n",
    "    with open(\"random_forest_model_f.sav\", 'rb') as f:\n",
    "        random_forest_model = pickle.load(f)\n",
    "    print(\"Random forest accuracy: \", random_forest_model.score(x_validation, y_validation))\n",
    "\n",
    "evaluate_models(x_validation, y_validation)"
   ]
  },
  {
   "cell_type": "markdown",
   "metadata": {},
   "source": [
    "Load the test data:"
   ]
  },
  {
   "cell_type": "code",
   "execution_count": null,
   "metadata": {},
   "outputs": [],
   "source": [
    "x_test, y_test = load_cached('holdout', 'holdout_data_f.npy', 'holdout_labels_f.npy')\n",
    "x_test = x_test.reshape(x_test.shape[0], -1) # the data is 3-dimensional (RGB), but the models expect a 2-dimensional array"
   ]
  },
  {
   "cell_type": "markdown",
   "metadata": {},
   "source": [
    "Evaluate the models on the test data:"
   ]
  },
  {
   "cell_type": "code",
   "execution_count": null,
   "metadata": {},
   "outputs": [],
   "source": [
    "with open(\"random_forest_model_f.sav\", 'rb') as f:\n",
    "    model = pickle.load(f)\n",
    "print(\"Random forest accuracy: \", model.score(x_test, y_test))\n",
    "\n",
    "# model = pickle.load(open(\"knn_3_model.sav\", 'rb'))\n",
    "# print(\"kNN accuracy: \", model.score(x_test, y_test))\n",
    "\n",
    "# confusion matrix:\n",
    "\n",
    "y_pred = model.predict(x_test)\n",
    "cm = confusion_matrix(y_test, y_pred, labels=[0, 1, 2, 3])\n",
    "\n",
    "# Convert to percentages\n",
    "cm_sum = np.sum(cm, axis=1, keepdims=True)\n",
    "cm_perc = cm / cm_sum.astype(float) * 100\n",
    "\n",
    "print(cm_perc)"
   ]
  },
  {
   "cell_type": "markdown",
   "metadata": {},
   "source": [
    "Test image files manually:"
   ]
  },
  {
   "cell_type": "code",
   "execution_count": null,
   "metadata": {},
   "outputs": [],
   "source": [
    "while True:\n",
    "\n",
    "    try:\n",
    "\n",
    "        # open a file browser to select a file from your storage\n",
    "\n",
    "        root = tk.Tk()\n",
    "        root.withdraw()\n",
    "\n",
    "        file_path = filedialog.askopenfilename()\n",
    "\n",
    "        # read the image\n",
    "\n",
    "        img = load_image(file_path, 0)[0]\n",
    "\n",
    "        # predict the class\n",
    "\n",
    "        prediction = model.predict([img])\n",
    "\n",
    "        if prediction[0] == 0:\n",
    "            print(\"Prediction: kaura\")\n",
    "        elif prediction[0] == 1:\n",
    "            print(\"Prediction: ohra\")\n",
    "        elif prediction[0] == 2:\n",
    "            print(\"Prediction: ruis\")\n",
    "        elif prediction[0] == 3:\n",
    "            print(\"Prediction: vehnä\")\n",
    "\n",
    "\n",
    "    except TypeError:\n",
    "\n",
    "        print(\"File browser closed\")\n",
    "        break\n"
   ]
  }
 ],
 "metadata": {
  "kernelspec": {
   "display_name": "Python 3",
   "language": "python",
   "name": "python3"
  },
  "language_info": {
   "codemirror_mode": {
    "name": "ipython",
    "version": 3
   },
   "file_extension": ".py",
   "mimetype": "text/x-python",
   "name": "python",
   "nbconvert_exporter": "python",
   "pygments_lexer": "ipython3",
   "version": "3.10.5"
  }
 },
 "nbformat": 4,
 "nbformat_minor": 2
}
