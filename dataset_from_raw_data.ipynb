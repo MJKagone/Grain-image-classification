{
 "cells": [
  {
   "cell_type": "code",
   "execution_count": null,
   "metadata": {},
   "outputs": [],
   "source": [
    "import cv2"
   ]
  },
  {
   "cell_type": "code",
   "execution_count": null,
   "metadata": {},
   "outputs": [],
   "source": [
    "import seed_segmenter\n",
    "\n",
    "vidcap = cv2.VideoCapture('raw/kaura_1.avi', None)\n",
    "\n",
    "nth_frame = 30\n",
    "images = []\n",
    "frame_counter = 0\n",
    "frame2_counter = 0\n",
    "\n",
    "while True:\n",
    "    success, image = vidcap.read()\n",
    "    if not success: break\n",
    "\n",
    "    frame_counter += 1\n",
    "    if frame_counter == nth_frame:\n",
    "        frame_counter = 0\n",
    "        was = len(images) >= 55\n",
    "        images += seed_segmenter.separate_seeds(cv2.cvtColor(image, cv2.COLOR_BGR2RGB))\n",
    "        if len(images) == 55 and not was:\n",
    "            print(frame2_counter)\n",
    "        frame2_counter += 1"
   ]
  },
  {
   "cell_type": "code",
   "execution_count": null,
   "metadata": {},
   "outputs": [],
   "source": [
    "from pathlib import Path\n",
    "from PIL import Image\n",
    "import shutil\n",
    "\n",
    "data_dir = Path('extracted_data')\n",
    "shutil.rmtree(data_dir)\n",
    "data_dir.mkdir()\n",
    "\n",
    "for i, image in enumerate(images):\n",
    "    Image.fromarray(image).save(data_dir / f'seed_{i}.png', )"
   ]
  },
  {
   "cell_type": "code",
   "execution_count": null,
   "metadata": {},
   "outputs": [],
   "source": [
    "import threading\n",
    "import skimage\n",
    "import shutil\n",
    "from pathlib import Path\n",
    "from PIL import Image\n",
    "from seed_segmenter import separate_seeds\n",
    "import numpy as np\n",
    "import concurrent.futures\n",
    "\n",
    "# From the actual images\n",
    "\n",
    "in_images = Path('raw_image/data')\n",
    "out_images = Path('extracted_data_from_images')\n",
    "shutil.rmtree(out_images, True)\n",
    "\n",
    "for category in in_images.iterdir():\n",
    "    out_dir = out_images / category.relative_to(in_images)\n",
    "    out_dir.mkdir(parents=True)\n",
    "    i = 1\n",
    "    i_lock = threading.Lock()\n",
    "\n",
    "    def handle_image(imfile):\n",
    "        global i\n",
    "        img = np.array(Image.open(imfile))\n",
    "        separated = separate_seeds(\n",
    "            img,\n",
    "            crop_left_right=(40, 1340),\n",
    "            threshold=0.01,\n",
    "            close_kernel=skimage.morphology.disk(3),\n",
    "            open_kernel=skimage.morphology.disk(5),\n",
    "            white=(1.0, 0.9, 0.8),\n",
    "            median_filter=3,\n",
    "            minimum_area=2000)\n",
    "        for s in separated:\n",
    "            with i_lock:\n",
    "                this_i = i\n",
    "                i += 1\n",
    "            print(f'{this_i}: {imfile}')\n",
    "            Image.fromarray(s).save(out_dir / f'seed_{this_i}.png', optimize=True)\n",
    "\n",
    "    with concurrent.futures.ThreadPoolExecutor() as executor:\n",
    "        for imfile in category.iterdir():\n",
    "            executor.submit(handle_image, imfile)\n"
   ]
  }
 ],
 "metadata": {
  "kernelspec": {
   "display_name": "venv",
   "language": "python",
   "name": "python3"
  },
  "language_info": {
   "codemirror_mode": {
    "name": "ipython",
    "version": 3
   },
   "file_extension": ".py",
   "mimetype": "text/x-python",
   "name": "python",
   "nbconvert_exporter": "python",
   "pygments_lexer": "ipython3",
   "version": "3.10.5"
  }
 },
 "nbformat": 4,
 "nbformat_minor": 2
}
