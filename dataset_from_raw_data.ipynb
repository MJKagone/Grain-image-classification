{
 "cells": [
  {
   "cell_type": "code",
   "execution_count": 1,
   "metadata": {},
   "outputs": [],
   "source": [
    "import cv2"
   ]
  },
  {
   "cell_type": "code",
   "execution_count": 2,
   "metadata": {},
   "outputs": [],
   "source": [
    "import seed_segmenter\n",
    "\n",
    "vidcap = cv2.VideoCapture('raw/kaura_1.avi', None)\n",
    "\n",
    "nth_frame = 30\n",
    "images = []\n",
    "frame_counter = 0\n",
    "frame2_counter = 0\n",
    "\n",
    "while True:\n",
    "    success, image = vidcap.read()\n",
    "    if not success: break\n",
    "\n",
    "    frame_counter += 1\n",
    "    if frame_counter == nth_frame:\n",
    "        frame_counter = 0\n",
    "        was = len(images) >= 55\n",
    "        images += seed_segmenter.separate_seeds(cv2.cvtColor(image, cv2.COLOR_BGR2RGB))\n",
    "        if len(images) == 55 and not was:\n",
    "            print(frame2_counter)\n",
    "        frame2_counter += 1"
   ]
  },
  {
   "cell_type": "code",
   "execution_count": 3,
   "metadata": {},
   "outputs": [],
   "source": [
    "from pathlib import Path\n",
    "from PIL import Image\n",
    "import shutil\n",
    "\n",
    "data_dir = Path('extracted_data')\n",
    "shutil.rmtree(data_dir)\n",
    "data_dir.mkdir()\n",
    "\n",
    "for i, image in enumerate(images):\n",
    "    Image.fromarray(image).save(data_dir / f'seed_{i}.png', )"
   ]
  }
 ],
 "metadata": {
  "kernelspec": {
   "display_name": "venv",
   "language": "python",
   "name": "python3"
  },
  "language_info": {
   "codemirror_mode": {
    "name": "ipython",
    "version": 3
   },
   "file_extension": ".py",
   "mimetype": "text/x-python",
   "name": "python",
   "nbconvert_exporter": "python",
   "pygments_lexer": "ipython3",
   "version": "3.10.5"
  }
 },
 "nbformat": 4,
 "nbformat_minor": 2
}
